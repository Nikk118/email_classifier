{
 "cells": [
  {
   "cell_type": "code",
   "execution_count": 2,
   "id": "4735a12a",
   "metadata": {},
   "outputs": [
    {
     "name": "stdout",
     "output_type": "stream",
     "text": [
      "0.9901345291479821\n",
      "[[968   2]\n",
      " [  9 136]]\n",
      "Model and vectorizer saved!\n"
     ]
    }
   ],
   "source": [
    "import pandas as pd\n",
    "import joblib\n",
    "from sklearn.model_selection import train_test_split\n",
    "from sklearn.feature_extraction.text import CountVectorizer\n",
    "from sklearn.metrics import accuracy_score, confusion_matrix\n",
    "from nb_model import mulitnomialNB\n",
    "\n",
    "df = pd.read_csv('sms.tsv', sep='\\t', header=None, names=['l', 'message'])\n",
    "df['message'] = df['message'].fillna('')\n",
    "\n",
    "x = df['message']\n",
    "y = df['l']\n",
    "\n",
    "x_train, x_test, y_train, y_test = train_test_split(x, y, test_size=0.2, random_state=23)\n",
    "\n",
    "vectorizer = CountVectorizer()\n",
    "x_v_train = vectorizer.fit_transform(x_train)\n",
    "x_v_test = vectorizer.transform(x_test)\n",
    "\n",
    "y_train = y_train.values\n",
    "y_test = y_test.values\n",
    "\n",
    "model = mulitnomialNB()\n",
    "model.fit(x_v_train, y_train)\n",
    "\n",
    "y_pred = model.predict(x_v_test)\n",
    "\n",
    "print(accuracy_score(y_test, y_pred))\n",
    "print(confusion_matrix(y_test, y_pred))\n",
    "\n",
    "joblib.dump(vectorizer, \"vectorizer.pkl\")\n",
    "joblib.dump(model, \"model.pkl\")\n",
    "\n",
    "print(\"Model and vectorizer saved!\")\n"
   ]
  },
  {
   "cell_type": "code",
   "execution_count": null,
   "id": "914fc38c",
   "metadata": {},
   "outputs": [],
   "source": []
  },
  {
   "cell_type": "code",
   "execution_count": null,
   "id": "731a519a",
   "metadata": {},
   "outputs": [],
   "source": []
  }
 ],
 "metadata": {
  "kernelspec": {
   "display_name": "Python 3",
   "language": "python",
   "name": "python3"
  },
  "language_info": {
   "codemirror_mode": {
    "name": "ipython",
    "version": 3
   },
   "file_extension": ".py",
   "mimetype": "text/x-python",
   "name": "python",
   "nbconvert_exporter": "python",
   "pygments_lexer": "ipython3",
   "version": "3.13.5"
  }
 },
 "nbformat": 4,
 "nbformat_minor": 5
}
