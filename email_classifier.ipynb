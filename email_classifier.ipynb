{
 "cells": [
  {
   "cell_type": "code",
   "execution_count": 16,
   "id": "4735a12a",
   "metadata": {},
   "outputs": [
    {
     "name": "stdout",
     "output_type": "stream",
     "text": [
      "0.9901345291479821\n",
      "[[968   2]\n",
      " [  9 136]]\n",
      "Model and vectorizer saved!\n"
     ]
    }
   ],
   "source": [
    "import pandas as pd\n",
    "import numpy as np\n",
    "import joblib\n",
    "from sklearn.model_selection import train_test_split\n",
    "from sklearn.feature_extraction.text import CountVectorizer\n",
    "from sklearn.metrics import accuracy_score,confusion_matrix\n",
    "\n",
    "# url = \"https://raw.githubusercontent.com/justmarkham/pycon-2016-tutorial/master/data/sms.tsv\"\n",
    "df = pd.read_csv('sms.tsv', sep='\\t', header=None, names=['l', 'message'])\n",
    "df['message'] = df['message'].fillna('')  # Handle NaN values\n",
    "\n",
    "x=df['message']\n",
    "y=df['l']\n",
    "\n",
    "x_train,x_test,y_train,y_test=train_test_split(x,y,test_size=0.2,random_state=23)\n",
    "\n",
    "vectorizer=CountVectorizer()\n",
    "x_v_train=vectorizer.fit_transform(x_train)\n",
    "x_v_test=vectorizer.transform(x_test)\n",
    "\n",
    "y_train=y_train.values\n",
    "y_test=y_test.values\n",
    "\n",
    "class mulitnomialNB():\n",
    "        def fit(self,x,y):\n",
    "                self.classes=np.unique(y)\n",
    "                self.class_log_prior={}\n",
    "                self.feature_log_prior={}\n",
    "                self.alpha=1\n",
    "\n",
    "                total_docs=len(y)\n",
    "                for c in self.classes:\n",
    "                        x_c=x[y==c]\n",
    "                        total_c_docs=x_c.shape[0]\n",
    "                        self.class_log_prior[c]=np.log(total_c_docs/total_docs)\n",
    "\n",
    "                        words_count=x_c.sum(axis=0)+ self.alpha\n",
    "                        total_words=words_count.sum()\n",
    "\n",
    "                        self.feature_log_prior[c]=np.log(words_count/total_words)\n",
    "        def predict(self,x):\n",
    "                results=[]\n",
    "                for i in range(x.shape[0]):\n",
    "                        sample=x[i]\n",
    "                        class_score={}\n",
    "                        for c in self.classes:\n",
    "                                log_prior=self.class_log_prior[c]\n",
    "                                log_liklihood=sample@ self.feature_log_prior[c].T\n",
    "                                score=log_prior+log_liklihood\n",
    "                                class_score[c]=score\n",
    "                        predict_class=max(class_score,key=class_score.get)\n",
    "                        results.append(predict_class)\n",
    "                return np.array(results)\n",
    "\n",
    "model=mulitnomialNB()\n",
    "\n",
    "model.fit(x_v_train,y_train)\n",
    "\n",
    "y_pred=model.predict(x_v_test)\n",
    "\n",
    "print(accuracy_score(y_test,y_pred))\n",
    "\n",
    "print(confusion_matrix(y_test,y_pred))\n",
    "\n",
    "\n",
    "joblib.dump(vectorizer, \"vectorizer.pkl\")\n",
    "joblib.dump(model, \"model.pkl\")\n",
    "\n",
    "\n",
    "print(\"Model and vectorizer saved!\")\n",
    "\n",
    "\n",
    "\n"
   ]
  },
  {
   "cell_type": "code",
   "execution_count": null,
   "id": "914fc38c",
   "metadata": {},
   "outputs": [],
   "source": []
  },
  {
   "cell_type": "code",
   "execution_count": null,
   "id": "731a519a",
   "metadata": {},
   "outputs": [],
   "source": []
  }
 ],
 "metadata": {
  "kernelspec": {
   "display_name": "Python 3",
   "language": "python",
   "name": "python3"
  },
  "language_info": {
   "codemirror_mode": {
    "name": "ipython",
    "version": 3
   },
   "file_extension": ".py",
   "mimetype": "text/x-python",
   "name": "python",
   "nbconvert_exporter": "python",
   "pygments_lexer": "ipython3",
   "version": "3.13.5"
  }
 },
 "nbformat": 4,
 "nbformat_minor": 5
}
